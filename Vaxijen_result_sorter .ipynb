{
  "nbformat": 4,
  "nbformat_minor": 0,
  "metadata": {
    "accelerator": "GPU",
    "colab": {
      "provenance": [],
      "name": "Vaxijen result sorter.ipynb",
      "include_colab_link": true
    },
    "kernelspec": {
      "name": "python3",
      "display_name": "Python 3"
    },
    "language_info": {
      "name": "python"
    }
  },
  "cells": [
    {
      "cell_type": "markdown",
      "metadata": {
        "id": "view-in-github",
        "colab_type": "text"
      },
      "source": [
        "<a href=\"https://colab.research.google.com/github/jrhtdo/Vaccine-tasks-automation/blob/main/Vaxijen_result_sorter%20.ipynb\" target=\"_parent\"><img src=\"https://colab.research.google.com/assets/colab-badge.svg\" alt=\"Open In Colab\"/></a>"
      ]
    },
    {
      "cell_type": "code",
      "source": [
        "#@title Vaxijen result sorter { form-width: \"100%\", display-mode: \"form\" }\n",
        "#@markdown This tool automatically picks the 'probable antigen' proteins from your vaxijen result\n",
        "#@markdown * Click on 'connect'\n",
        "#@markdown * Click on 'run' or the play button, then upload your file\n",
        "from google.colab import files\n",
        "\n",
        "uploaded = files.upload()\n",
        "\n",
        "for fn in uploaded.keys():\n",
        "  xy=(uploaded[fn].decode('utf-8'))\n",
        "xx=xy.split('>')\n",
        "z=''\n",
        "for i in xx:\n",
        "  if 'Probable ANTIGEN' in i:\n",
        "    z+=str('>'+i)\n",
        "b=''\n",
        "y=z.splitlines()\n",
        "for line in y:\n",
        "  if line.startswith('Your') or line.startswith('Overall') or line=='':\n",
        "    continue\n",
        "  else:\n",
        "    b+=line+'\\n'\n",
        "\n",
        "with open(f\"{fn} antigenic.fasta\", \"w\") as text_file:\n",
        "  text_file.write(b) \n",
        "files.download(f\"{fn} antigenic.fasta\")"
      ],
      "metadata": {
        "id": "UcQoIjHXN04p"
      },
      "execution_count": null,
      "outputs": []
    }
  ]
}